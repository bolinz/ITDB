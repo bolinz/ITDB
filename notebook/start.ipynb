{
 "nbformat": 4,
 "nbformat_minor": 2,
 "metadata": {
  "language_info": {
   "name": "python",
   "codemirror_mode": {
    "name": "ipython",
    "version": 3
   },
   "version": "3.7.4"
  },
  "orig_nbformat": 2,
  "file_extension": ".py",
  "mimetype": "text/x-python",
  "name": "python",
  "npconvert_exporter": "python",
  "pygments_lexer": "ipython3",
  "version": 3
 },
 "cells": [
  {
   "cell_type": "markdown",
   "execution_count": null,
   "metadata": {},
   "outputs": [],
   "source": [
    "输出hello world"
   ]
  },
  {
   "cell_type": "code",
   "execution_count": 2,
   "metadata": {},
   "outputs": [
    {
     "name": "stdout",
     "output_type": "stream",
     "text": "hello world\n"
    }
   ],
   "source": [
    "print(\"hello world\")"
   ]
  },
  {
   "cell_type": "markdown",
   "execution_count": null,
   "metadata": {},
   "outputs": [],
   "source": [
    "格式化输出文本,用%()内的值替换字符串的内的参数,"
   ]
  },
  {
   "cell_type": "code",
   "execution_count": 8,
   "metadata": {},
   "outputs": [
    {
     "name": "stdout",
     "output_type": "stream",
     "text": "hello world\n"
    }
   ],
   "source": [
    "print(\"hello %s\"%(\"world\"))"
   ]
  },
  {
   "cell_type": "markdown",
   "execution_count": null,
   "metadata": {},
   "outputs": [],
   "source": [
    "定义变量"
   ]
  },
  {
   "cell_type": "code",
   "execution_count": 101,
   "metadata": {},
   "outputs": [
    {
     "name": "stdout",
     "output_type": "stream",
     "text": "list: [0, 5] \n tuple: (1,) \n set: {'b', 'a'} \n dic: {'a': 'b', 'c': {'b', 'a'}} \n\n"
    }
   ],
   "source": [
    "# 字符串\n",
    "name='john'\n",
    "# 整型\n",
    "age=18\n",
    "# 浮点\n",
    "height=1.8\n",
    "#列表 有序可修改\n",
    "l=[0,5]\n",
    "#元组 有序不能修改\n",
    "t=(1,)\n",
    "#集合 无序不重复\n",
    "s={\"a\",\"b\"}\n",
    "#字典 kv型\n",
    "d={\"a\":\"b\",\"c\":c}\n",
    "print('list:',l,\"\\n\",'tuple:',t,'\\n','set:',s,'\\n',\"dic:\",d,'\\n')"
   ]
  },
  {
   "cell_type": "code",
   "execution_count": 102,
   "metadata": {},
   "outputs": [
    {
     "data": {
      "text/plain": "str"
     },
     "execution_count": 102,
     "metadata": {},
     "output_type": "execute_result"
    }
   ],
   "source": [
    "#查看变量类型\n",
    "type(name)"
   ]
  },
  {
   "cell_type": "markdown",
   "execution_count": null,
   "metadata": {},
   "outputs": [],
   "source": [
    "## 列表"
   ]
  },
  {
   "cell_type": "code",
   "execution_count": 103,
   "metadata": {},
   "outputs": [
    {
     "name": "stdout",
     "output_type": "stream",
     "text": "[0, 5]\n0\n3 has 0 in a\n"
    }
   ],
   "source": [
    "\n",
    "print(l)\n",
    "# 调用列表 从0开始计数\n",
    "print(l[0])\n",
    "# 列表中元素出现的次数\n",
    "print(\"3 has %d in a\"%(l.count(3)))\n"
   ]
  },
  {
   "cell_type": "code",
   "execution_count": 110,
   "metadata": {},
   "outputs": [
    {
     "name": "stdout",
     "output_type": "stream",
     "text": "[0, 5, 3, 3, 3, 3]\n"
    }
   ],
   "source": [
    "#增加列表内元素\n",
    "l.append(3)\n",
    "l.append(3)\n",
    "print(l)"
   ]
  },
  {
   "cell_type": "code",
   "execution_count": 111,
   "metadata": {},
   "outputs": [
    {
     "data": {
      "text/plain": "[0, 3, 3, 3, 3, 5]"
     },
     "execution_count": 111,
     "metadata": {},
     "output_type": "execute_result"
    }
   ],
   "source": [
    "#排序\n",
    "sorted(l)"
   ]
  },
  {
   "cell_type": "markdown",
   "execution_count": null,
   "metadata": {},
   "outputs": [],
   "source": [
    "## 集合"
   ]
  },
  {
   "cell_type": "code",
   "execution_count": 121,
   "metadata": {},
   "outputs": [
    {
     "name": "stdout",
     "output_type": "stream",
     "text": "{0, 3, 5}\n"
    }
   ],
   "source": [
    "#将列表转换为集合可以去重\n",
    "s=set(l)\n",
    "print(s)"
   ]
  },
  {
   "cell_type": "code",
   "execution_count": 123,
   "metadata": {},
   "outputs": [
    {
     "name": "stdout",
     "output_type": "stream",
     "text": "{0, 3, 5, 6}\n"
    }
   ],
   "source": [
    "#增加元素\n",
    "s.add(6)\n",
    "print(s)"
   ]
  },
  {
   "cell_type": "markdown",
   "execution_count": null,
   "metadata": {},
   "outputs": [],
   "source": [
    "## 字典"
   ]
  },
  {
   "cell_type": "code",
   "execution_count": 125,
   "metadata": {},
   "outputs": [
    {
     "name": "stdout",
     "output_type": "stream",
     "text": "{'b', 'a'}\n"
    }
   ],
   "source": [
    "# 调用字典内元素\n",
    "print(d[\"c\"])"
   ]
  },
  {
   "cell_type": "code",
   "execution_count": 128,
   "metadata": {},
   "outputs": [
    {
     "name": "stdout",
     "output_type": "stream",
     "text": "{'a': 'b', 'c': 'c'}\n"
    }
   ],
   "source": [
    "#修改字典内元素\n",
    "d[\"c\"]=\"c\"\n",
    "print(d)"
   ]
  },
  {
   "cell_type": "markdown",
   "execution_count": null,
   "metadata": {},
   "outputs": [],
   "source": [
    "## 条件判断\n",
    "\n"
   ]
  },
  {
   "cell_type": "code",
   "execution_count": 162,
   "metadata": {},
   "outputs": [
    {
     "name": "stdout",
     "output_type": "stream",
     "text": "l is a list\n"
    }
   ],
   "source": [
    "# if\n",
    "if type(l)==list:\n",
    "    print(\"l is a list\")\n"
   ]
  },
  {
   "cell_type": "code",
   "execution_count": 161,
   "metadata": {},
   "outputs": [
    {
     "name": "stdout",
     "output_type": "stream",
     "text": "t is not a list\n"
    }
   ],
   "source": [
    "# if else\n",
    "if type(t)==list:\n",
    "    print('t is a list')\n",
    "else:\n",
    "    print('t is not a list')"
   ]
  },
  {
   "cell_type": "code",
   "execution_count": 163,
   "metadata": {},
   "outputs": [
    {
     "name": "stdout",
     "output_type": "stream",
     "text": "t is a tuple\n"
    }
   ],
   "source": [
    "#elif\n",
    "if type(t)==list:\n",
    "    print('t is a list')\n",
    "elif type(t)==tuple:\n",
    "    print ('t is a tuple')"
   ]
  },
  {
   "cell_type": "markdown",
   "execution_count": null,
   "metadata": {},
   "outputs": [],
   "source": [
    "## 循环"
   ]
  },
  {
   "cell_type": "code",
   "execution_count": 129,
   "metadata": {},
   "outputs": [
    {
     "name": "stdout",
     "output_type": "stream",
     "text": "0\n5\n3\n3\n3\n3\n"
    }
   ],
   "source": [
    "# 遍历列表\n",
    "for i in l:\n",
    "    print(i)"
   ]
  },
  {
   "cell_type": "code",
   "execution_count": 134,
   "metadata": {},
   "outputs": [
    {
     "name": "stdout",
     "output_type": "stream",
     "text": "1\n2\n3\n4\n"
    }
   ],
   "source": [
    "# 范围循环\n",
    "for i in range(1,5):\n",
    "    print(i)"
   ]
  },
  {
   "cell_type": "code",
   "execution_count": 139,
   "metadata": {},
   "outputs": [
    {
     "name": "stdout",
     "output_type": "stream",
     "text": "key:a value:b\nkey:c value:c\n"
    }
   ],
   "source": [
    "# 遍历字典\n",
    "for k,v in d.items():\n",
    "    print(\"key:%s value:%s\"%(k,v))"
   ]
  },
  {
   "cell_type": "code",
   "execution_count": 154,
   "metadata": {},
   "outputs": [
    {
     "name": "stdout",
     "output_type": "stream",
     "text": "0\n1\n2\n3\n4\n"
    }
   ],
   "source": [
    "# 满足条件时循环\n",
    "i=0\n",
    "n=5\n",
    "while i<n:\n",
    "    print(i)\n",
    "    i=1+i\n"
   ]
  },
  {
   "cell_type": "markdown",
   "execution_count": null,
   "metadata": {},
   "outputs": [],
   "source": [
    "## 函数"
   ]
  },
  {
   "cell_type": "code",
   "execution_count": 194,
   "metadata": {},
   "outputs": [],
   "source": [
    "#定义函数\n",
    "def plus(a:int,b:int):\n",
    "    result:int=a+b\n",
    "    return result\n"
   ]
  },
  {
   "cell_type": "code",
   "execution_count": 193,
   "metadata": {},
   "outputs": [
    {
     "name": "stdout",
     "output_type": "stream",
     "text": "3\n"
    }
   ],
   "source": [
    "#调用函数\n",
    "print(plus(1,2))"
   ]
  },
  {
   "cell_type": "markdown",
   "execution_count": null,
   "metadata": {},
   "outputs": [],
   "source": [
    "## python 模块"
   ]
  },
  {
   "cell_type": "code",
   "execution_count": 187,
   "metadata": {},
   "outputs": [],
   "source": [
    "# 导入模块\n",
    "import time\n",
    "import datetime as dt\n",
    "from sys import getwindowsversion"
   ]
  },
  {
   "cell_type": "code",
   "execution_count": 178,
   "metadata": {},
   "outputs": [
    {
     "name": "stdout",
     "output_type": "stream",
     "text": "Fri Jan  3 15:50:58 2020\n"
    }
   ],
   "source": [
    "# 调用模块\n",
    "print(time.ctime())\n"
   ]
  },
  {
   "cell_type": "code",
   "execution_count": 179,
   "metadata": {},
   "outputs": [
    {
     "name": "stdout",
     "output_type": "stream",
     "text": "2020-01-03 15:51:00.522100\n"
    }
   ],
   "source": [
    "print(dt.datetime.now())"
   ]
  },
  {
   "cell_type": "code",
   "execution_count": 189,
   "metadata": {},
   "outputs": [
    {
     "name": "stdout",
     "output_type": "stream",
     "text": "sys.getwindowsversion(major=10, minor=0, build=19041, platform=2, service_pack='')\n"
    }
   ],
   "source": [
    "print(getwindowsversion())"
   ]
  },
  {
   "cell_type": "code",
   "execution_count": null,
   "metadata": {},
   "outputs": [],
   "source": []
  }
 ]
}